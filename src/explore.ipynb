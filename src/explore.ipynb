{
    "cells": [
        {
            "cell_type": "markdown",
            "metadata": {},
            "source": [
                "# Project - Anomaly detection on CPU usage \n",
                "\n",
                "- Anomaly Detection means to identify unexpected events in a process. It means to detect threats to our systems that may cause harm in terms of security and leakage of important information, but the importance of Anomaly Detection is not limited to security. \n",
                "- The data of this project is based on per-minute metrics of the host’s CPU utilization.\n",
                " "
            ]
        },
        {
            "cell_type": "code",
            "execution_count": 1,
            "metadata": {},
            "outputs": [
                {
                    "name": "stdout",
                    "output_type": "stream",
                    "text": [
                        "Collecting pandas\n",
                        "  Downloading pandas-1.4.3-cp38-cp38-manylinux_2_17_x86_64.manylinux2014_x86_64.whl (11.7 MB)\n",
                        "\u001b[2K     \u001b[90m━━━━━━━━━━━━━━━━━━━━━━━━━━━━━━━━━━━━━━━\u001b[0m \u001b[32m11.7/11.7 MB\u001b[0m \u001b[31m104.5 MB/s\u001b[0m eta \u001b[36m0:00:00\u001b[0m00:01\u001b[0m00:01\u001b[0m\n",
                        "\u001b[?25hCollecting numpy\n",
                        "  Downloading numpy-1.23.1-cp38-cp38-manylinux_2_17_x86_64.manylinux2014_x86_64.whl (17.1 MB)\n",
                        "\u001b[2K     \u001b[90m━━━━━━━━━━━━━━━━━━━━━━━━━━━━━━━━━━━━━━━━\u001b[0m \u001b[32m17.1/17.1 MB\u001b[0m \u001b[31m96.9 MB/s\u001b[0m eta \u001b[36m0:00:00\u001b[0m00:01\u001b[0m00:01\u001b[0m\n",
                        "\u001b[?25hCollecting matplotlib\n",
                        "  Downloading matplotlib-3.5.2-cp38-cp38-manylinux_2_5_x86_64.manylinux1_x86_64.whl (11.3 MB)\n",
                        "\u001b[2K     \u001b[90m━━━━━━━━━━━━━━━━━━━━━━━━━━━━━━━━━━━━━━━\u001b[0m \u001b[32m11.3/11.3 MB\u001b[0m \u001b[31m108.2 MB/s\u001b[0m eta \u001b[36m0:00:00\u001b[0m00:01\u001b[0m00:01\u001b[0m\n",
                        "\u001b[?25hCollecting seaborn\n",
                        "  Downloading seaborn-0.11.2-py3-none-any.whl (292 kB)\n",
                        "\u001b[2K     \u001b[90m━━━━━━━━━━━━━━━━━━━━━━━━━━━━━━━━━━━━━━\u001b[0m \u001b[32m292.8/292.8 kB\u001b[0m \u001b[31m70.6 MB/s\u001b[0m eta \u001b[36m0:00:00\u001b[0m\n",
                        "\u001b[?25hCollecting sklearn\n",
                        "  Downloading sklearn-0.0.tar.gz (1.1 kB)\n",
                        "  Preparing metadata (setup.py) ... \u001b[?25ldone\n",
                        "\u001b[?25hCollecting pmdarima\n",
                        "  Downloading pmdarima-1.8.5-cp38-cp38-manylinux_2_17_x86_64.manylinux2014_x86_64.manylinux_2_24_x86_64.whl (1.5 MB)\n",
                        "\u001b[2K     \u001b[90m━━━━━━━━━━━━━━━━━━━━━━━━━━━━━━━━━━━━━━━━\u001b[0m \u001b[32m1.5/1.5 MB\u001b[0m \u001b[31m100.1 MB/s\u001b[0m eta \u001b[36m0:00:00\u001b[0m\n",
                        "\u001b[?25hCollecting pytz>=2020.1\n",
                        "  Downloading pytz-2022.1-py2.py3-none-any.whl (503 kB)\n",
                        "\u001b[2K     \u001b[90m━━━━━━━━━━━━━━━━━━━━━━━━━━━━━━━━━━━━━━\u001b[0m \u001b[32m503.5/503.5 kB\u001b[0m \u001b[31m96.6 MB/s\u001b[0m eta \u001b[36m0:00:00\u001b[0m\n",
                        "\u001b[?25hRequirement already satisfied: python-dateutil>=2.8.1 in /home/gitpod/.pyenv/versions/3.8.13/lib/python3.8/site-packages (from pandas->-r ../requirements.txt (line 3)) (2.8.2)\n",
                        "Collecting kiwisolver>=1.0.1\n",
                        "  Downloading kiwisolver-1.4.4-cp38-cp38-manylinux_2_5_x86_64.manylinux1_x86_64.whl (1.2 MB)\n",
                        "\u001b[2K     \u001b[90m━━━━━━━━━━━━━━━━━━━━━━━━━━━━━━━━━━━━━━━━\u001b[0m \u001b[32m1.2/1.2 MB\u001b[0m \u001b[31m132.1 MB/s\u001b[0m eta \u001b[36m0:00:00\u001b[0m\n",
                        "\u001b[?25hCollecting fonttools>=4.22.0\n",
                        "  Downloading fonttools-4.34.4-py3-none-any.whl (944 kB)\n",
                        "\u001b[2K     \u001b[90m━━━━━━━━━━━━━━━━━━━━━━━━━━━━━━━━━━━━━━\u001b[0m \u001b[32m944.1/944.1 kB\u001b[0m \u001b[31m87.7 MB/s\u001b[0m eta \u001b[36m0:00:00\u001b[0m\n",
                        "\u001b[?25hRequirement already satisfied: packaging>=20.0 in /home/gitpod/.pyenv/versions/3.8.13/lib/python3.8/site-packages (from matplotlib->-r ../requirements.txt (line 5)) (21.3)\n",
                        "Requirement already satisfied: pyparsing>=2.2.1 in /home/gitpod/.pyenv/versions/3.8.13/lib/python3.8/site-packages (from matplotlib->-r ../requirements.txt (line 5)) (3.0.9)\n",
                        "Collecting pillow>=6.2.0\n",
                        "  Downloading Pillow-9.2.0-cp38-cp38-manylinux_2_28_x86_64.whl (3.2 MB)\n",
                        "\u001b[2K     \u001b[90m━━━━━━━━━━━━━━━━━━━━━━━━━━━━━━━━━━━━━━━━\u001b[0m \u001b[32m3.2/3.2 MB\u001b[0m \u001b[31m123.3 MB/s\u001b[0m eta \u001b[36m0:00:00\u001b[0m\n",
                        "\u001b[?25hCollecting cycler>=0.10\n",
                        "  Downloading cycler-0.11.0-py3-none-any.whl (6.4 kB)\n",
                        "Collecting scipy>=1.0\n",
                        "  Downloading scipy-1.9.0-cp38-cp38-manylinux_2_17_x86_64.manylinux2014_x86_64.whl (43.4 MB)\n",
                        "\u001b[2K     \u001b[90m━━━━━━━━━━━━━━━━━━━━━━━━━━━━━━━━━━━━━━━━\u001b[0m \u001b[32m43.4/43.4 MB\u001b[0m \u001b[31m36.3 MB/s\u001b[0m eta \u001b[36m0:00:00\u001b[0m00:01\u001b[0m00:01\u001b[0m\n",
                        "\u001b[?25hCollecting scikit-learn\n",
                        "  Downloading scikit_learn-1.1.2-cp38-cp38-manylinux_2_17_x86_64.manylinux2014_x86_64.whl (31.2 MB)\n",
                        "\u001b[2K     \u001b[90m━━━━━━━━━━━━━━━━━━━━━━━━━━━━━━━━━━━━━━━━\u001b[0m \u001b[32m31.2/31.2 MB\u001b[0m \u001b[31m44.5 MB/s\u001b[0m eta \u001b[36m0:00:00\u001b[0m00:01\u001b[0m00:01\u001b[0m\n",
                        "\u001b[?25hCollecting statsmodels!=0.12.0,>=0.11\n",
                        "  Downloading statsmodels-0.13.2-cp38-cp38-manylinux_2_17_x86_64.manylinux2014_x86_64.whl (9.9 MB)\n",
                        "\u001b[2K     \u001b[90m━━━━━━━━━━━━━━━━━━━━━━━━━━━━━━━━━━━━━━━━\u001b[0m \u001b[32m9.9/9.9 MB\u001b[0m \u001b[31m126.3 MB/s\u001b[0m eta \u001b[36m0:00:00\u001b[0m00:01\u001b[0m00:01\u001b[0m\n",
                        "\u001b[?25hRequirement already satisfied: urllib3 in /home/gitpod/.pyenv/versions/3.8.13/lib/python3.8/site-packages (from pmdarima->-r ../requirements.txt (line 10)) (1.26.11)\n",
                        "Collecting Cython!=0.29.18,>=0.29\n",
                        "  Downloading Cython-0.29.32-cp38-cp38-manylinux_2_17_x86_64.manylinux2014_x86_64.manylinux_2_24_x86_64.whl (1.9 MB)\n",
                        "\u001b[2K     \u001b[90m━━━━━━━━━━━━━━━━━━━━━━━━━━━━━━━━━━━━━━━━\u001b[0m \u001b[32m1.9/1.9 MB\u001b[0m \u001b[31m106.3 MB/s\u001b[0m eta \u001b[36m0:00:00\u001b[0m\n",
                        "\u001b[?25hRequirement already satisfied: setuptools!=50.0.0,>=38.6.0 in /home/gitpod/.pyenv/versions/3.8.13/lib/python3.8/site-packages (from pmdarima->-r ../requirements.txt (line 10)) (63.2.0)\n",
                        "Collecting joblib>=0.11\n",
                        "  Downloading joblib-1.1.0-py2.py3-none-any.whl (306 kB)\n",
                        "\u001b[2K     \u001b[90m━━━━━━━━━━━━━━━━━━━━━━━━━━━━━━━━━━━━━━\u001b[0m \u001b[32m307.0/307.0 kB\u001b[0m \u001b[31m64.1 MB/s\u001b[0m eta \u001b[36m0:00:00\u001b[0m\n",
                        "\u001b[?25hRequirement already satisfied: six>=1.5 in /home/gitpod/.pyenv/versions/3.8.13/lib/python3.8/site-packages (from python-dateutil>=2.8.1->pandas->-r ../requirements.txt (line 3)) (1.16.0)\n",
                        "Collecting threadpoolctl>=2.0.0\n",
                        "  Downloading threadpoolctl-3.1.0-py3-none-any.whl (14 kB)\n",
                        "Collecting patsy>=0.5.2\n",
                        "  Downloading patsy-0.5.2-py2.py3-none-any.whl (233 kB)\n",
                        "\u001b[2K     \u001b[90m━━━━━━━━━━━━━━━━━━━━━━━━━━━━━━━━━━━━━━\u001b[0m \u001b[32m233.7/233.7 kB\u001b[0m \u001b[31m56.2 MB/s\u001b[0m eta \u001b[36m0:00:00\u001b[0m\n",
                        "\u001b[?25hBuilding wheels for collected packages: sklearn\n",
                        "  Building wheel for sklearn (setup.py) ... \u001b[?25ldone\n",
                        "\u001b[?25h  Created wheel for sklearn: filename=sklearn-0.0-py2.py3-none-any.whl size=1304 sha256=c4077b9434df29c4eeff2255eb9eb65b311bf1c0078b009a9d18d49993d15b10\n",
                        "  Stored in directory: /home/gitpod/.cache/pip/wheels/22/0b/40/fd3f795caaa1fb4c6cb738bc1f56100be1e57da95849bfc897\n",
                        "Successfully built sklearn\n",
                        "Installing collected packages: pytz, threadpoolctl, pillow, numpy, kiwisolver, joblib, fonttools, Cython, cycler, scipy, patsy, pandas, matplotlib, statsmodels, seaborn, scikit-learn, sklearn, pmdarima\n",
                        "Successfully installed Cython-0.29.32 cycler-0.11.0 fonttools-4.34.4 joblib-1.1.0 kiwisolver-1.4.4 matplotlib-3.5.2 numpy-1.23.1 pandas-1.4.3 patsy-0.5.2 pillow-9.2.0 pmdarima-1.8.5 pytz-2022.1 scikit-learn-1.1.2 scipy-1.9.0 seaborn-0.11.2 sklearn-0.0 statsmodels-0.13.2 threadpoolctl-3.1.0\n",
                        "\n",
                        "\u001b[1m[\u001b[0m\u001b[34;49mnotice\u001b[0m\u001b[1;39;49m]\u001b[0m\u001b[39;49m A new release of pip available: \u001b[0m\u001b[31;49m22.2\u001b[0m\u001b[39;49m -> \u001b[0m\u001b[32;49m22.2.2\u001b[0m\n",
                        "\u001b[1m[\u001b[0m\u001b[34;49mnotice\u001b[0m\u001b[1;39;49m]\u001b[0m\u001b[39;49m To update, run: \u001b[0m\u001b[32;49mpip install --upgrade pip\u001b[0m\n"
                    ]
                }
            ],
            "source": [
                "!pip install -r '../requirements.txt'"
            ]
        },
        {
            "cell_type": "markdown",
            "metadata": {},
            "source": [
                "## Import"
            ]
        },
        {
            "cell_type": "code",
            "execution_count": 3,
            "metadata": {},
            "outputs": [],
            "source": [
                "import numpy as np\n",
                "import pandas as pd\n",
                "import matplotlib.pyplot as plt\n",
                "%matplotlib inline\n",
                "\n",
                "import seaborn as sns"
            ]
        },
        {
            "cell_type": "markdown",
            "metadata": {},
            "source": [
                "## Load Data"
            ]
        },
        {
            "cell_type": "code",
            "execution_count": 10,
            "metadata": {},
            "outputs": [],
            "source": [
                "#download from https://raw.githubusercontent.com/oreilly-mlsec/book-resources/master/chapter3/datasets/cpu-utilization/\n",
                "\n",
                "train_dataA = pd.read_csv('../data/raw/cpu-train-a.csv')\n",
                "train_dataB = pd.read_csv('../data/raw/cpu-train-b.csv')\n",
                "\n",
                "test_dataA = pd.read_csv('../data/raw/cpu-test-a.csv')\n",
                "test_dataB = pd.read_csv('../data/raw/cpu-test-b.csv')"
            ]
        },
        {
            "cell_type": "code",
            "execution_count": 8,
            "metadata": {},
            "outputs": [
                {
                    "name": "stdout",
                    "output_type": "stream",
                    "text": [
                        "Shape A:  (420, 2)\n",
                        "Shape B:  (600, 2)\n"
                    ]
                }
            ],
            "source": [
                "print('Shape A: ', train_dataA.shape)\n",
                "print('Shape B: ', train_dataB.shape)"
            ]
        },
        {
            "cell_type": "code",
            "execution_count": 11,
            "metadata": {},
            "outputs": [
                {
                    "name": "stdout",
                    "output_type": "stream",
                    "text": [
                        "Shape A:  (60, 2)\n",
                        "Shape B:  (60, 2)\n"
                    ]
                }
            ],
            "source": [
                "print('Shape A: ', test_dataA.shape)\n",
                "print('Shape B: ', test_dataB.shape)"
            ]
        },
        {
            "cell_type": "code",
            "execution_count": 12,
            "metadata": {},
            "outputs": [
                {
                    "data": {
                        "text/html": [
                            "<div>\n",
                            "<style scoped>\n",
                            "    .dataframe tbody tr th:only-of-type {\n",
                            "        vertical-align: middle;\n",
                            "    }\n",
                            "\n",
                            "    .dataframe tbody tr th {\n",
                            "        vertical-align: top;\n",
                            "    }\n",
                            "\n",
                            "    .dataframe thead th {\n",
                            "        text-align: right;\n",
                            "    }\n",
                            "</style>\n",
                            "<table border=\"1\" class=\"dataframe\">\n",
                            "  <thead>\n",
                            "    <tr style=\"text-align: right;\">\n",
                            "      <th></th>\n",
                            "      <th>datetime</th>\n",
                            "      <th>cpu</th>\n",
                            "    </tr>\n",
                            "  </thead>\n",
                            "  <tbody>\n",
                            "    <tr>\n",
                            "      <th>0</th>\n",
                            "      <td>2017-01-27 18:42:00</td>\n",
                            "      <td>1.14</td>\n",
                            "    </tr>\n",
                            "    <tr>\n",
                            "      <th>1</th>\n",
                            "      <td>2017-01-27 18:43:00</td>\n",
                            "      <td>1.10</td>\n",
                            "    </tr>\n",
                            "    <tr>\n",
                            "      <th>2</th>\n",
                            "      <td>2017-01-27 18:44:00</td>\n",
                            "      <td>1.09</td>\n",
                            "    </tr>\n",
                            "    <tr>\n",
                            "      <th>3</th>\n",
                            "      <td>2017-01-27 18:45:00</td>\n",
                            "      <td>1.08</td>\n",
                            "    </tr>\n",
                            "    <tr>\n",
                            "      <th>4</th>\n",
                            "      <td>2017-01-27 18:46:00</td>\n",
                            "      <td>1.08</td>\n",
                            "    </tr>\n",
                            "    <tr>\n",
                            "      <th>5</th>\n",
                            "      <td>2017-01-27 18:47:00</td>\n",
                            "      <td>1.08</td>\n",
                            "    </tr>\n",
                            "    <tr>\n",
                            "      <th>6</th>\n",
                            "      <td>2017-01-27 18:48:00</td>\n",
                            "      <td>1.15</td>\n",
                            "    </tr>\n",
                            "    <tr>\n",
                            "      <th>7</th>\n",
                            "      <td>2017-01-27 18:49:00</td>\n",
                            "      <td>1.13</td>\n",
                            "    </tr>\n",
                            "    <tr>\n",
                            "      <th>8</th>\n",
                            "      <td>2017-01-27 18:50:00</td>\n",
                            "      <td>1.09</td>\n",
                            "    </tr>\n",
                            "    <tr>\n",
                            "      <th>9</th>\n",
                            "      <td>2017-01-27 18:51:00</td>\n",
                            "      <td>1.06</td>\n",
                            "    </tr>\n",
                            "  </tbody>\n",
                            "</table>\n",
                            "</div>"
                        ],
                        "text/plain": [
                            "              datetime   cpu\n",
                            "0  2017-01-27 18:42:00  1.14\n",
                            "1  2017-01-27 18:43:00  1.10\n",
                            "2  2017-01-27 18:44:00  1.09\n",
                            "3  2017-01-27 18:45:00  1.08\n",
                            "4  2017-01-27 18:46:00  1.08\n",
                            "5  2017-01-27 18:47:00  1.08\n",
                            "6  2017-01-27 18:48:00  1.15\n",
                            "7  2017-01-27 18:49:00  1.13\n",
                            "8  2017-01-27 18:50:00  1.09\n",
                            "9  2017-01-27 18:51:00  1.06"
                        ]
                    },
                    "execution_count": 12,
                    "metadata": {},
                    "output_type": "execute_result"
                }
            ],
            "source": [
                "train_dataA.head(10)"
            ]
        },
        {
            "cell_type": "code",
            "execution_count": 14,
            "metadata": {},
            "outputs": [
                {
                    "name": "stdout",
                    "output_type": "stream",
                    "text": [
                        "<class 'pandas.core.frame.DataFrame'>\n",
                        "RangeIndex: 420 entries, 0 to 419\n",
                        "Data columns (total 2 columns):\n",
                        " #   Column    Non-Null Count  Dtype  \n",
                        "---  ------    --------------  -----  \n",
                        " 0   datetime  420 non-null    object \n",
                        " 1   cpu       420 non-null    float64\n",
                        "dtypes: float64(1), object(1)\n",
                        "memory usage: 6.7+ KB\n"
                    ]
                }
            ],
            "source": [
                "train_dataA.info()"
            ]
        },
        {
            "cell_type": "code",
            "execution_count": 15,
            "metadata": {},
            "outputs": [
                {
                    "name": "stdout",
                    "output_type": "stream",
                    "text": [
                        "<class 'pandas.core.frame.DataFrame'>\n",
                        "RangeIndex: 600 entries, 0 to 599\n",
                        "Data columns (total 2 columns):\n",
                        " #   Column    Non-Null Count  Dtype  \n",
                        "---  ------    --------------  -----  \n",
                        " 0   datetime  600 non-null    object \n",
                        " 1   cpu       600 non-null    float64\n",
                        "dtypes: float64(1), object(1)\n",
                        "memory usage: 9.5+ KB\n"
                    ]
                }
            ],
            "source": [
                "train_dataB.info()"
            ]
        },
        {
            "cell_type": "markdown",
            "metadata": {},
            "source": [
                "## Explorer Train_Data_A"
            ]
        },
        {
            "cell_type": "code",
            "execution_count": 18,
            "metadata": {},
            "outputs": [
                {
                    "data": {
                        "text/html": [
                            "<div>\n",
                            "<style scoped>\n",
                            "    .dataframe tbody tr th:only-of-type {\n",
                            "        vertical-align: middle;\n",
                            "    }\n",
                            "\n",
                            "    .dataframe tbody tr th {\n",
                            "        vertical-align: top;\n",
                            "    }\n",
                            "\n",
                            "    .dataframe thead th {\n",
                            "        text-align: right;\n",
                            "    }\n",
                            "</style>\n",
                            "<table border=\"1\" class=\"dataframe\">\n",
                            "  <thead>\n",
                            "    <tr style=\"text-align: right;\">\n",
                            "      <th></th>\n",
                            "      <th>cpu</th>\n",
                            "    </tr>\n",
                            "    <tr>\n",
                            "      <th>date</th>\n",
                            "      <th></th>\n",
                            "    </tr>\n",
                            "  </thead>\n",
                            "  <tbody>\n",
                            "    <tr>\n",
                            "      <th>2017-01-27 18:42:00</th>\n",
                            "      <td>1.14</td>\n",
                            "    </tr>\n",
                            "    <tr>\n",
                            "      <th>2017-01-27 18:43:00</th>\n",
                            "      <td>1.10</td>\n",
                            "    </tr>\n",
                            "    <tr>\n",
                            "      <th>2017-01-27 18:44:00</th>\n",
                            "      <td>1.09</td>\n",
                            "    </tr>\n",
                            "    <tr>\n",
                            "      <th>2017-01-27 18:45:00</th>\n",
                            "      <td>1.08</td>\n",
                            "    </tr>\n",
                            "    <tr>\n",
                            "      <th>2017-01-27 18:46:00</th>\n",
                            "      <td>1.08</td>\n",
                            "    </tr>\n",
                            "  </tbody>\n",
                            "</table>\n",
                            "</div>"
                        ],
                        "text/plain": [
                            "                      cpu\n",
                            "date                     \n",
                            "2017-01-27 18:42:00  1.14\n",
                            "2017-01-27 18:43:00  1.10\n",
                            "2017-01-27 18:44:00  1.09\n",
                            "2017-01-27 18:45:00  1.08\n",
                            "2017-01-27 18:46:00  1.08"
                        ]
                    },
                    "execution_count": 18,
                    "metadata": {},
                    "output_type": "execute_result"
                }
            ],
            "source": [
                "#Convert the dataframe index to a datetime index \n",
                "df_raw = train_dataA.copy()\n",
                "df_raw['date'] = pd.to_datetime(df_raw['datetime'])\n",
                "df_raw = df_raw.set_index('date')\n",
                "df_raw.drop(['datetime'], axis=1, inplace=True)\n",
                "\n",
                "#Convert the dataframe index to a datetime index \n",
                "df_test = test_dataA.copy()\n",
                "df_test['date'] = pd.to_datetime(df_test['datetime'])\n",
                "df_test = df_test.set_index('date')\n",
                "df_test.drop(['datetime'], axis=1, inplace=True) \n",
                "\n",
                "df_raw.head()"
            ]
        },
        {
            "cell_type": "code",
            "execution_count": 19,
            "metadata": {},
            "outputs": [
                {
                    "data": {
                        "text/html": [
                            "<div>\n",
                            "<style scoped>\n",
                            "    .dataframe tbody tr th:only-of-type {\n",
                            "        vertical-align: middle;\n",
                            "    }\n",
                            "\n",
                            "    .dataframe tbody tr th {\n",
                            "        vertical-align: top;\n",
                            "    }\n",
                            "\n",
                            "    .dataframe thead th {\n",
                            "        text-align: right;\n",
                            "    }\n",
                            "</style>\n",
                            "<table border=\"1\" class=\"dataframe\">\n",
                            "  <thead>\n",
                            "    <tr style=\"text-align: right;\">\n",
                            "      <th></th>\n",
                            "      <th>cpu</th>\n",
                            "    </tr>\n",
                            "    <tr>\n",
                            "      <th>date</th>\n",
                            "      <th></th>\n",
                            "    </tr>\n",
                            "  </thead>\n",
                            "  <tbody>\n",
                            "    <tr>\n",
                            "      <th>2017-01-27</th>\n",
                            "      <td>1.142579</td>\n",
                            "    </tr>\n",
                            "    <tr>\n",
                            "      <th>2017-01-28</th>\n",
                            "      <td>1.515980</td>\n",
                            "    </tr>\n",
                            "  </tbody>\n",
                            "</table>\n",
                            "</div>"
                        ],
                        "text/plain": [
                            "                 cpu\n",
                            "date                \n",
                            "2017-01-27  1.142579\n",
                            "2017-01-28  1.515980"
                        ]
                    },
                    "execution_count": 19,
                    "metadata": {},
                    "output_type": "execute_result"
                }
            ],
            "source": [
                "df_raw.resample('D').mean()"
            ]
        },
        {
            "cell_type": "code",
            "execution_count": null,
            "metadata": {},
            "outputs": [],
            "source": [
                "#2 day data, 1 min interval"
            ]
        },
        {
            "cell_type": "code",
            "execution_count": null,
            "metadata": {},
            "outputs": [],
            "source": [
                "import cufflinks as cf\n",
                "import plotly.offline as py\n",
                "import matplotlib.pyplot as plt"
            ]
        },
        {
            "cell_type": "code",
            "execution_count": 20,
            "metadata": {},
            "outputs": [
                {
                    "data": {
                        "text/plain": [
                            "<AxesSubplot:title={'center':'CPU 27-28 jun 2017'}, xlabel='date'>"
                        ]
                    },
                    "execution_count": 20,
                    "metadata": {},
                    "output_type": "execute_result"
                },
                {
                    "data": {
                        "image/png": "[encoded data removed]",
                        "text/plain": [
                            "<Figure size 1080x432 with 1 Axes>"
                        ]
                    },
                    "metadata": {
                        "needs_background": "light"
                    },
                    "output_type": "display_data"
                }
            ],
            "source": [
                "df_raw.plot(title=\"CPU 27-28 jun 2017\", figsize=(15,6))"
            ]
        },
        {
            "cell_type": "markdown",
            "metadata": {},
            "source": [
                "## Model ARIMA Train_A"
            ]
        },
        {
            "cell_type": "code",
            "execution_count": 24,
            "metadata": {},
            "outputs": [
                {
                    "name": "stdout",
                    "output_type": "stream",
                    "text": [
                        "Performing stepwise search to minimize aic\n",
                        " ARIMA(1,1,1)(0,1,1)[12]             : AIC=inf, Time=3.40 sec\n",
                        " ARIMA(0,1,0)(0,1,0)[12]             : AIC=-273.302, Time=0.10 sec\n",
                        " ARIMA(1,1,0)(1,1,0)[12]             : AIC=-368.085, Time=0.51 sec\n",
                        " ARIMA(0,1,1)(0,1,1)[12]             : AIC=inf, Time=3.10 sec\n",
                        " ARIMA(1,1,0)(0,1,0)[12]             : AIC=-271.465, Time=0.11 sec\n",
                        " ARIMA(1,1,0)(2,1,0)[12]             : AIC=-417.827, Time=4.79 sec\n",
                        " ARIMA(1,1,0)(2,1,1)[12]             : AIC=inf, Time=16.40 sec\n",
                        " ARIMA(1,1,0)(1,1,1)[12]             : AIC=inf, Time=4.97 sec\n",
                        " ARIMA(0,1,0)(2,1,0)[12]             : AIC=-419.762, Time=2.31 sec\n",
                        " ARIMA(0,1,0)(1,1,0)[12]             : AIC=-369.850, Time=0.33 sec\n",
                        " ARIMA(0,1,0)(2,1,1)[12]             : AIC=inf, Time=7.97 sec\n",
                        " ARIMA(0,1,0)(1,1,1)[12]             : AIC=inf, Time=4.00 sec\n",
                        " ARIMA(0,1,1)(2,1,0)[12]             : AIC=-417.860, Time=2.11 sec\n",
                        " ARIMA(1,1,1)(2,1,0)[12]             : AIC=-421.259, Time=3.91 sec\n",
                        " ARIMA(1,1,1)(1,1,0)[12]             : AIC=-373.326, Time=1.10 sec\n",
                        " ARIMA(1,1,1)(2,1,1)[12]             : AIC=inf, Time=12.28 sec\n",
                        " ARIMA(1,1,1)(1,1,1)[12]             : AIC=inf, Time=5.42 sec\n",
                        " ARIMA(2,1,1)(2,1,0)[12]             : AIC=-427.811, Time=6.70 sec\n",
                        " ARIMA(2,1,1)(1,1,0)[12]             : AIC=-381.754, Time=2.39 sec\n",
                        " ARIMA(2,1,1)(2,1,1)[12]             : AIC=inf, Time=26.18 sec\n",
                        " ARIMA(2,1,1)(1,1,1)[12]             : AIC=inf, Time=7.22 sec\n",
                        " ARIMA(2,1,0)(2,1,0)[12]             : AIC=-427.364, Time=4.21 sec\n",
                        " ARIMA(3,1,1)(2,1,0)[12]             : AIC=-426.171, Time=12.60 sec\n",
                        " ARIMA(2,1,2)(2,1,0)[12]             : AIC=-436.791, Time=10.70 sec\n",
                        " ARIMA(2,1,2)(1,1,0)[12]             : AIC=inf, Time=4.48 sec\n",
                        " ARIMA(2,1,2)(2,1,1)[12]             : AIC=inf, Time=25.80 sec\n",
                        " ARIMA(2,1,2)(1,1,1)[12]             : AIC=inf, Time=7.42 sec\n",
                        " ARIMA(1,1,2)(2,1,0)[12]             : AIC=-429.674, Time=3.11 sec\n",
                        " ARIMA(3,1,2)(2,1,0)[12]             : AIC=-437.412, Time=14.00 sec\n",
                        " ARIMA(3,1,2)(1,1,0)[12]             : AIC=inf, Time=7.72 sec\n",
                        " ARIMA(3,1,2)(2,1,1)[12]             : AIC=inf, Time=22.99 sec\n",
                        " ARIMA(3,1,2)(1,1,1)[12]             : AIC=inf, Time=10.50 sec\n",
                        " ARIMA(3,1,3)(2,1,0)[12]             : AIC=inf, Time=19.70 sec\n",
                        " ARIMA(2,1,3)(2,1,0)[12]             : AIC=-426.525, Time=10.60 sec\n",
                        " ARIMA(3,1,2)(2,1,0)[12] intercept   : AIC=-428.366, Time=22.50 sec\n",
                        "\n",
                        "Best model:  ARIMA(3,1,2)(2,1,0)[12]          \n",
                        "Total fit time: 291.715 seconds\n",
                        "-437.41198834580103\n"
                    ]
                }
            ],
            "source": [
                "from pmdarima.arima import auto_arima\n",
                "stepwise_model = auto_arima(df_raw, start_p=1, start_q=1,\n",
                "                           max_p=3, max_q=3, m=12,\n",
                "                           start_P=0, seasonal=True,\n",
                "                           d=1, D=1, trace=True,\n",
                "                           error_action='ignore',  \n",
                "                           suppress_warnings=True, \n",
                "                           stepwise=True)\n",
                "print(stepwise_model.aic())"
            ]
        }
    ],
    "metadata": {
        "kernelspec": {
            "display_name": "Python 3.8.13 64-bit ('3.8.13')",
            "language": "python",
            "name": "python3"
        },
        "language_info": {
            "codemirror_mode": {
                "name": "ipython",
                "version": 3
            },
            "file_extension": ".py",
            "mimetype": "text/x-python",
            "name": "python",
            "nbconvert_exporter": "python",
            "pygments_lexer": "ipython3",
            "version": "3.8.13"
        },
        "orig_nbformat": 4,
        "vscode": {
            "interpreter": {
                "hash": "110cc1dee26208153f2972f08a2ad52b6a56238dc66d48e87fb757ef2996db56"
            }
        }
    },
    "nbformat": 4,
    "nbformat_minor": 2
}
